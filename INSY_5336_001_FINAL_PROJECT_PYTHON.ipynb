{
 "cells": [
  {
   "cell_type": "markdown",
   "metadata": {},
   "source": [
    "### INSY 5336-001 PYHTON PROGRAMING FINAL PROJECT\n",
    "### Kajal Jain\n",
    "### UTA ID- 1001815317\n",
    "\n",
    "### This project is about scrapping data from web and store the result in csv or txt file, also and databse using Python-Sqlite3 interface.( In my case its saved as csv file, but can be opened in notepad as well)\n",
    "\n",
    "### ALGORITHM FOLLOWED:\n",
    "\n",
    "#### 1) Import all the necessary modules and libraries\n",
    "#### 2) Pass URL of webpage and request to get the raw content/information of webpage\n",
    "#### 3) As, we are interested in Most Active stock, fetch Most Actives Tickers \n",
    "#### 4) Using Beautiful soup lib, import the HTML content from first webpage\n",
    "#### 5) Use try and except, to handle error and exceptions, if, file named \"stocks.csv\" already exists, delete it and create new\n",
    "#### 6) Create an empty dictionary to store data, assign value of counter1 and counter2 to 0 and 1 repectively\n",
    "#### 7) Open file stocks.csv in write mode\n",
    "#### 8) Importing contents from second webpage as well, and get the values of respective fields as ticker, openprice, prevcloseprice and volume\n",
    "#### 9) Write the values in txt file\n",
    "#### 10) Get only most actives and break out of loop\n",
    "#### 11)For writing into a database, create a database named SticksDatabase.sqlite\n",
    "#### 12) Establish connection and drop table \"StocksTable\" if already exists, and create new with fields, Ticker, OpenPrice, PrevClosePrice and Volume\n",
    "#### 13) Open file stocks.csv in read mode and strip spaces, create list using split function\n",
    "#### 14) Insert values of mentioned fields and close the file and shut the connection\n",
    "#### 15) End of program\n"
   ]
  },
  {
   "cell_type": "markdown",
   "metadata": {},
   "source": [
    "### Observation/instruction:\n",
    "#### NOTE: 1) Name of csv file created: stocks.csv, can be opened explicitly in notepad as well.\n",
    "#### 2) Name of database is: StocksDatabase.sqlite\n",
    "#### 3) Name of Tabel: StocksTable\n",
    "##### Just for the reference purpose, I am printing name of most actives ticker on screen. My .txt and database created contain information about required field.\n"
   ]
  },
  {
   "cell_type": "code",
   "execution_count": 1,
   "metadata": {},
   "outputs": [
    {
     "name": "stdout",
     "output_type": "stream",
     "text": [
      "GE\n",
      "CCL\n",
      "F\n",
      "MRO\n",
      "TWTR\n",
      "DAL\n",
      "NCLH\n",
      "LUV\n",
      "BAC\n",
      "OXY\n"
     ]
    }
   ],
   "source": [
    "from bs4 import BeautifulSoup  #importing python lib to pull data out of HTML files\n",
    "import requests\n",
    "import parser\n",
    "import csv                     #for comma seperated files\n",
    "import os                      #OS module provides allows you to interface with the underlying operating system that Python is running OneDrive/\n",
    "import sqlite3                 #to use sqlite3 in python\n",
    "try:                           #try block to handle error and exception\n",
    "    \n",
    "    myurl1=\"https://money.cnn.com/data/hotstocks/\"       #URL address to get list of Active tickers\n",
    "    html_content1=requests.get(myurl1).text\n",
    "    myurl2=\"https://finance.yahoo.com/quote/\"            #URL to get information of respective active ticker\n",
    "    soup = BeautifulSoup(html_content1, \"lxml\")          #parsing the HTML content\n",
    "    global str\n",
    "    if os.path.exists(\"stocks.csv\"):\n",
    "        os.remove(\"stocks.csv\")                          #removes file from current dictionary,if exists\n",
    "    data = {}                                            #create an empty dictionary to store data\n",
    "    counter1=0                                           #set counter 1=0\n",
    "    counter2=1                                           #set counter 2=1\n",
    "    Category =\"MOST ACTIVES\"                             #most Active tickers only \n",
    "    OpenPrice =\"\"                                        #Open price value\n",
    "    PrevClosePrice=\"\"                                    #Previous close price value\n",
    "    Volume=\"\"                                            #Volume\n",
    "    with open('stocks.csv', 'w', newline='') as file:    #opening the file stocks.csv in write mode\n",
    "\n",
    "        writer = csv.writer(file)                        #creating a writer object\n",
    "        for link in soup.find_all(\"a\", attrs={\"class\": \"wsod_symbol\"}): #extracting the data from moneycnnhotstocks\n",
    "            if counter1>=3:          #for each stock from the above results obtain the corresponding stock values from Yahoo finance\n",
    "                html_content2 = requests.get(myurl2+link.text).text\n",
    "                soup2 = BeautifulSoup(html_content2,\"lxml\")                                         #parsing html content\n",
    "                for link2 in soup2.find(\"td\", attrs={\"data-test\":\"OPEN-value\"}):\n",
    "                    OpenPrice = link2.text                                                     #assign value of Openprice\n",
    "                for link3 in soup2.find(\"td\", attrs={\"data-test\":\"PREV_CLOSE-value\"}):\n",
    "                    PrevClosePrice = link3.text                                      #assign value of Previous Close Price\n",
    "                for link4 in soup2.find(\"td\", attrs={\"data-test\":\"TD_VOLUME-value\"}):\n",
    "                    Volume = link4.text                                                            #assign value fo Volume \n",
    "                    Volume= Volume.replace(\",\",\"\")                                          #replace \" , \" with space            \n",
    "                    print(link.text)                                         #printing the stock code and name\n",
    "                    writer.writerow([link.text, OpenPrice, PrevClosePrice, Volume]) #writing the row in txt file\n",
    "                counter2=counter2+1\n",
    "            counter1=counter1+1\n",
    "            if counter2==11:    #if satisfies break out of the loop\n",
    "                break\n",
    "    conn = sqlite3.connect('StocksDatabase.sqlite')                                     #Creating Databse named StocksDatabse\n",
    "    cur = conn.cursor()                                                                 #establishing connection\n",
    "    cur.execute('DROP TABLE IF EXISTS StocksTable')                                     #if StocksTable already exists, drop it\n",
    "    cur.execute('CREATE TABLE StocksTable(Ticker TEXT, OpenPrice REAL,PrevClosePrice REAL,Volume INTEGER)')#create StocksTable with respective fields\n",
    "    stockfilehandle= open('stocks.csv','r')                                             #Open txt file in read mode\n",
    "    insertcmd= 'INSERT INTO StocksTable(Ticker, OpenPrice, PrevClosePrice, Volume ) VALUES (?,?,?,?)'#inserting values in tha table\n",
    "    for i in stockfilehandle:\n",
    "        i = i.rstrip()   #striping spaces\n",
    "        Stockdata= i.split(',')                                                     #creating list using split function()\n",
    "        cur.execute(insertcmd, (Stockdata[0],Stockdata[1],Stockdata[2],Stockdata[3]))   #Insert values in database table\n",
    "        conn.commit()                                                                   #execute\n",
    "        continue\n",
    "        cur.close()\n",
    "    stockfilehandle.close()                                                            #close the file\n",
    "    cur = conn.cursor()\n",
    "    cur.execute('SELECT Ticker, OpenPrice, PrevClosePrice, Volume FROM StocksTable')\n",
    "    cur.close()  \n",
    "except:\n",
    "    print(\"Server is down temporarily, please try again later.\")"
   ]
  },
  {
   "cell_type": "code",
   "execution_count": null,
   "metadata": {},
   "outputs": [],
   "source": []
  }
 ],
 "metadata": {
  "kernelspec": {
   "display_name": "Python 3",
   "language": "python",
   "name": "python3"
  },
  "language_info": {
   "codemirror_mode": {
    "name": "ipython",
    "version": 3
   },
   "file_extension": ".py",
   "mimetype": "text/x-python",
   "name": "python",
   "nbconvert_exporter": "python",
   "pygments_lexer": "ipython3",
   "version": "3.7.4"
  }
 },
 "nbformat": 4,
 "nbformat_minor": 2
}
